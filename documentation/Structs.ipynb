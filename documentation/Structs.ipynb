{
 "cells": [
  {
   "cell_type": "code",
   "execution_count": 1,
   "metadata": {},
   "outputs": [],
   "source": [
    "import sys\n",
    "import os\n",
    "import numpy\n",
    "sys.path.append(os.path.dirname(os.path.abspath('')))"
   ]
  },
  {
   "cell_type": "markdown",
   "metadata": {
    "collapsed": true
   },
   "source": [
    "# Structs\n",
    "\n",
    "Structs are containers for structured data, similar to NumPy arrays.\n",
    "The key difference to arrays is, however, that the data contained in structs is structured, i.e. hierarchical and named.\n",
    "This allows writing vectorized code for much more complex data structures than multi-dimensional arrays.\n",
    "\n",
    "The `struct` API is closely related to the [`math` API](NumPy_and_TensorFlow_Execution.md)."
   ]
  },
  {
   "cell_type": "markdown",
   "metadata": {},
   "source": [
    "## Examples"
   ]
  },
  {
   "cell_type": "code",
   "execution_count": 2,
   "metadata": {},
   "outputs": [],
   "source": [
    "from phi import struct\n",
    "a = [1, numpy.zeros([2])]\n",
    "b = {'x0': 0, 'x1': 0.5, 'x2': 1}\n",
    "c = (a, b)"
   ]
  },
  {
   "cell_type": "markdown",
   "metadata": {},
   "source": [
    "All function in `phi.math` can be called on structs. This broadcasts the corresponding calls to all contained arrays."
   ]
  },
  {
   "cell_type": "code",
   "execution_count": 4,
   "metadata": {},
   "outputs": [
    {
     "data": {
      "text/plain": [
       "([0.8414709848078965, array([0., 0.])],\n",
       " {'x0': 0.0, 'x1': 0.479425538604203, 'x2': 0.8414709848078965})"
      ]
     },
     "execution_count": 4,
     "metadata": {},
     "output_type": "execute_result"
    }
   ],
   "source": [
    "from phi import math\n",
    "math.sin(c)"
   ]
  },
  {
   "cell_type": "markdown",
   "metadata": {},
   "source": [
    "Note that math.sin calls numpy.sin in this case.\n",
    "If the struct contained TensorFlow tensors, tensorflow.sin would be called instead."
   ]
  },
  {
   "cell_type": "markdown",
   "metadata": {},
   "source": [
    "## Types of structs\n",
    "\n",
    "The following types are considered structs:\n",
    "- Lists\n",
    "- Tuples\n",
    "- Dicts containing strings as keys\n",
    "- NumPy arrays with `dtype=numpy.object`\n",
    "- Subclasses of [`phi.math.struct.Struct`](../phi/struct/struct.py)\n",
    "\n",
    "All `phi.math` functions and functions of the struct API work with any of the above types.\n",
    "\n",
    "While all entries of lists, tuples, dicts and NumPy arrays are expected to hold data,\n",
    "subclasses of the `Struct` class can define further *properties* which are not subject to the above mentioned functions.\n",
    "Data-holding entries will be referred to as *attributes*."
   ]
  },
  {
   "cell_type": "markdown",
   "metadata": {},
   "source": [
    "## Iterating over structs\n",
    "\n",
    "The struct interface provides the function `map` which iterates over all *attributes* of a struct and optionally all sub-structs."
   ]
  },
  {
   "cell_type": "code",
   "execution_count": 5,
   "metadata": {
    "scrolled": true
   },
   "outputs": [
    {
     "data": {
      "text/plain": [
       "(['1', '[0. 0.]'], {'x0': '0', 'x1': '0.5', 'x2': '1'})"
      ]
     },
     "execution_count": 5,
     "metadata": {},
     "output_type": "execute_result"
    }
   ],
   "source": [
    "struct.map(lambda x: str(x), c)"
   ]
  },
  {
   "cell_type": "markdown",
   "metadata": {},
   "source": [
    "This iterates over all attributes of `data` and recursively over all of its sub-structs.\n",
    "If we only wanted to affect the tensors directly held by `data`, we could call"
   ]
  },
  {
   "cell_type": "code",
   "execution_count": 6,
   "metadata": {},
   "outputs": [
    {
     "data": {
      "text/plain": [
       "('[1, array([0., 0.])]', \"{'x0': 0, 'x1': 0.5, 'x2': 1}\")"
      ]
     },
     "execution_count": 6,
     "metadata": {},
     "output_type": "execute_result"
    }
   ],
   "source": [
    "struct.map(lambda x: str(x), c, recursive=False)"
   ]
  },
  {
   "cell_type": "markdown",
   "metadata": {},
   "source": [
    "Assume, we want only dicts to be stringified as a whole.\n",
    "This can be achieved by defining a leaf_condition."
   ]
  },
  {
   "cell_type": "code",
   "execution_count": 7,
   "metadata": {},
   "outputs": [
    {
     "data": {
      "text/plain": [
       "(['1', '[0. 0.]'], \"{'x0': 0, 'x1': 0.5, 'x2': 1}\")"
      ]
     },
     "execution_count": 7,
     "metadata": {},
     "output_type": "execute_result"
    }
   ],
   "source": [
    "struct.map(lambda x: str(x), c, leaf_condition=lambda x: isinstance(x, dict))"
   ]
  },
  {
   "cell_type": "markdown",
   "metadata": {},
   "source": [
    "In some cases we require additional information when mapping a struct; not just the value but also where it is stored.\n",
    "When calling `map(.., trace=True)`, a [`Trace`](../phi/struct/functions.py) object is passed to the mapping function `f` instead of the value. In addition to retrieving the value via `trace.value`, it provides access to the attribute key as `trace.key` and the parent structs via `trace.parent`."
   ]
  },
  {
   "cell_type": "code",
   "execution_count": 8,
   "metadata": {},
   "outputs": [
    {
     "data": {
      "text/plain": [
       "([0, 1], {'x0': 'x0', 'x1': 'x1', 'x2': 'x2'})"
      ]
     },
     "execution_count": 8,
     "metadata": {},
     "output_type": "execute_result"
    }
   ],
   "source": [
    "struct.map(lambda trace: trace.key, c, trace=True)"
   ]
  },
  {
   "cell_type": "markdown",
   "metadata": {},
   "source": [
    "## Usages in Φ<sub>*Flow*</sub>\n",
    "\n",
    "In Φ<sub>*Flow*</sub>, structs are mostly used to store simulation states, i.e.\n",
    "each attribute holds a tensor such as density or velocity of a smoke simulation.\n",
    "In particular, the state base class [`phi.physics.physics.State`](../phi/physics/physics.py) extends `Struct`.\n",
    "All Field classes such as StaggeredGrid are also structs.\n",
    "\n",
    "Properties are used to hold additional parameters for the simulation that should be included in the `description.json` file. Typical examples of these include `viscosity` or `buoyancy_factor`."
   ]
  },
  {
   "cell_type": "code",
   "execution_count": 9,
   "metadata": {},
   "outputs": [
    {
     "name": "stdout",
     "output_type": "stream",
     "text": [
      "density.box.origin  (ndarray)\n",
      "density.box.size  (ndarray)\n",
      "density.data  (ndarray)\n",
      "density.name  (str)\n",
      "density.bounds.origin  (ndarray)\n",
      "density.bounds.size  (ndarray)\n",
      "density.tags.0  (str)\n",
      "density.tags.1  (str)\n",
      "density.age  (float)\n",
      "velocity.data.0.box.origin  (ndarray)\n",
      "velocity.data.0.box.size  (ndarray)\n",
      "velocity.data.0.data  (ndarray)\n",
      "velocity.data.0.name  (str)\n",
      "velocity.data.0.bounds.origin  (ndarray)\n",
      "velocity.data.0.bounds.size  (ndarray)\n",
      "velocity.data.0.tags.0  (str)\n",
      "velocity.data.0.tags.1  (str)\n",
      "velocity.data.0.age  (float)\n",
      "velocity.data.1.box.origin  (ndarray)\n",
      "velocity.data.1.box.size  (ndarray)\n",
      "velocity.data.1.data  (ndarray)\n",
      "velocity.data.1.name  (str)\n",
      "velocity.data.1.bounds.origin  (ndarray)\n",
      "velocity.data.1.bounds.size  (ndarray)\n",
      "velocity.data.1.tags.0  (str)\n",
      "velocity.data.1.tags.1  (str)\n",
      "velocity.data.1.age  (float)\n",
      "velocity.resolution  (ndarray)\n",
      "velocity.box.origin  (ndarray)\n",
      "velocity.box.size  (ndarray)\n",
      "velocity.name  (str)\n",
      "velocity.bounds.origin  (ndarray)\n",
      "velocity.bounds.size  (ndarray)\n",
      "velocity.flags.0.name  (str)\n",
      "velocity.flags.0.is_data_bound  (bool)\n",
      "velocity.flags.0.is_structure_bound  (bool)\n",
      "velocity.flags.0.propagators.0  (str)\n",
      "velocity.flags.0.propagators.1  (str)\n",
      "velocity.flags.0.field_types.0  (str)\n",
      "velocity.tags.0  (str)\n",
      "velocity.tags.1  (str)\n",
      "velocity.age  (float)\n",
      "buoyancy_factor  (float)\n",
      "domain.resolution  (ndarray)\n",
      "domain.box.origin  (ndarray)\n",
      "domain.box.size  (ndarray)\n",
      "domain.boundaries.name  (str)\n",
      "domain.boundaries.solid  (bool)\n",
      "domain.boundaries.friction  (float)\n",
      "tags.0  (str)\n",
      "tags.1  (str)\n",
      "age  (float)\n"
     ]
    }
   ],
   "source": [
    "from phi.flow import *\n",
    "smoke = Smoke(Domain([80, 64]))\n",
    "\n",
    "def print_name(trace):\n",
    "    print('%s  (%s)' % (trace.path(), type(trace.value).__name__))\n",
    "    return trace.value\n",
    "struct.map(print_name, smoke, trace=True, include_properties=True);"
   ]
  },
  {
   "cell_type": "markdown",
   "metadata": {},
   "source": [
    "[Staggered grids](Staggered_Grids.md), as in `smoke.velocity`, are vector fields where the arrays for each component have different shapes."
   ]
  },
  {
   "cell_type": "markdown",
   "metadata": {},
   "source": [
    "## Tensor initialization\n",
    "\n",
    "Initializer functions such as `zeros` or `placeholder` internally call their counterparts in NumPy or TensorFlow.\n",
    "They can take 1D-tensors describing the shape as input but also support structs holding shapes.\n",
    "The call `zeros(StaggeredGrid([1,65,65,2]))` will return a `StaggeredGrid` holding a NumPy array.\n",
    "\n",
    "Some states simplify this even further by allowing a syntax like `SomkeState(density=zeros)` or `SmokeState(velocity=placeholder)`.\n",
    "\n",
    "The `placeholder` and `variable` initializers also infer the name of the resulting tensors from the attribute names."
   ]
  },
  {
   "cell_type": "markdown",
   "metadata": {},
   "source": [
    "### Data I/O\n",
    "\n",
    "The data writing and reading system accepts structs and automatically infers their names from the attributes.\n",
    "See the [data documentation](Reading_and_Writing_Data.md)."
   ]
  },
  {
   "cell_type": "markdown",
   "metadata": {},
   "source": [
    "### Session\n",
    "\n",
    "The [`Session`](../phi/tf/session.py) class is a customized version of `tf.Session` which accepts structs for the `fetches` argument as well as inside the `feed_dict`.\n",
    "\n",
    "This can be used to quickly run states through a graph like so:"
   ]
  },
  {
   "cell_type": "code",
   "execution_count": 13,
   "metadata": {},
   "outputs": [
    {
     "data": {
      "text/plain": [
       "Smoke[density: Grid[16x16(1), size=[16. 16.]], velocity: StaggeredGrid[16x16, size=[16. 16.]]]"
      ]
     },
     "execution_count": 13,
     "metadata": {},
     "output_type": "execute_result"
    }
   ],
   "source": [
    "from phi.tf.flow import *\n",
    "numpy_state = Smoke(Domain([16, 16]), density=math.zeros, velocity=math.zeros)\n",
    "placeholder_state = Smoke(Domain([16, 16]), density=placeholder, velocity=placeholder)\n",
    "output_state = SMOKE.step(placeholder_state)\n",
    "session = Session(None)\n",
    "numpy_state = session.run(output_state, {placeholder_state: numpy_state})\n",
    "numpy_state"
   ]
  },
  {
   "cell_type": "markdown",
   "metadata": {},
   "source": [
    "## Validitiy\n",
    "\n",
    "As structs are supposed to hold data in a specific structure, there is a preferred data type for each entry.\n",
    "For a CenteredGrid, the `data` attribute should be a tensor or array with a certain rank and the `velocity` of a `Smoke` object should be a `StaggeredGrid`.\n",
    "\n",
    "An entry is _valid_ if its value if of the preferred data type.\n",
    "Subclasses of `Struct` can implement validity checks and modify their entries to make them valid.\n",
    "\n",
    "This hierarchy is not always needed, however. Many math functions return invalid structs such as `math.staticshape(obj)` which returns a struct containing shapes instead of data.\n",
    "Code dealing with invalid structs should always be enclosed in a `with struct.anytype():` block.\n",
    "This context skips all data validation steps."
   ]
  },
  {
   "cell_type": "markdown",
   "metadata": {},
   "source": [
    "# Immutability\n",
    "While structs can be mutable in principle, the struct interface does not allow for changing a struct.\n",
    "Attributes and properties can be \"changed\" using the `copy_with` function.\n",
    "Thereby, the struct isn't altered but rather a duplicate with the new values is created."
   ]
  },
  {
   "cell_type": "markdown",
   "metadata": {},
   "source": [
    "## Implementing a custom struct\n",
    "\n",
    "The following code snippet defines a custom `Struct`"
   ]
  },
  {
   "cell_type": "code",
   "execution_count": 11,
   "metadata": {},
   "outputs": [],
   "source": [
    "class MyStruct(struct.Struct):\n",
    "\n",
    "    def __init__(self, a, p, **kwargs):\n",
    "        struct.Struct.__init__(**struct.kwargs(locals()))\n",
    "\n",
    "    @struct.attr()\n",
    "    def a(self, a): return a\n",
    "\n",
    "    @struct.prop()\n",
    "    def p(self, p): return str(p)"
   ]
  },
  {
   "cell_type": "markdown",
   "metadata": {},
   "source": [
    "Attributes and properties are declared using the decorators `struct.attr()` and `struct.prop()`, respectively.\n",
    "These items create read-only attributes which should be changed only using the inherited `copied_with()` method.\n",
    "\n",
    "The methods themselves are used for validation. In addition to `self`, each attribute and property gets the intended value as an input. The function can either directly return this value without any validity checks, raise an error for invalid values or transform the value into a valid value.\n",
    "\n",
    "Unless created inside a `with struct.anytype()` block, structs are always valid when viewed from outside."
   ]
  },
  {
   "cell_type": "code",
   "execution_count": 12,
   "metadata": {},
   "outputs": [
    {
     "name": "stdout",
     "output_type": "stream",
     "text": [
      "0 <class 'str'>\n",
      "1 <class 'str'>\n"
     ]
    }
   ],
   "source": [
    "mystruct = MyStruct(a=0, p=0)\n",
    "print(mystruct.p, type(mystruct.p))\n",
    "mystruct = mystruct.copied_with(p=1)\n",
    "print(mystruct.p, type(mystruct.p))"
   ]
  }
 ],
 "metadata": {
  "kernelspec": {
   "display_name": "Python 3",
   "language": "python",
   "name": "python3"
  },
  "language_info": {
   "codemirror_mode": {
    "name": "ipython",
    "version": 3
   },
   "file_extension": ".py",
   "mimetype": "text/x-python",
   "name": "python",
   "nbconvert_exporter": "python",
   "pygments_lexer": "ipython3",
   "version": "3.6.5"
  }
 },
 "nbformat": 4,
 "nbformat_minor": 1
}
